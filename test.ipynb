{
 "cells": [
  {
   "cell_type": "code",
   "execution_count": 1,
   "metadata": {},
   "outputs": [
    {
     "name": "stdout",
     "output_type": "stream",
     "text": [
      "Error occurred while registering abilities: No module named '/home/gaby/dev/AI/financial_analysis_agent/actions'\n"
     ]
    },
    {
     "data": {
      "image/jpeg": "[encoded data removed]",
      "text/plain": [
       "<IPython.core.display.Image object>"
      ]
     },
     "metadata": {},
     "output_type": "display_data"
    }
   ],
   "source": [
    "from analyst_group.graph import create_analyst_workflow\n",
    "from IPython.display import display, Image\n",
    "from langchain_core.messages import HumanMessage\n",
    "from dotenv import load_dotenv\n",
    "\n",
    "load_dotenv()\n",
    "\n",
    "workflow = create_analyst_workflow()\n",
    "graph = workflow.compile()\n",
    "display(Image(graph.get_graph(xray=True).draw_mermaid_png()))"
   ]
  },
  {
   "cell_type": "code",
   "execution_count": 2,
   "metadata": {},
   "outputs": [
    {
     "name": "stdout",
     "output_type": "stream",
     "text": [
      "{'planner': {'messages': [AIMessage(content=\"Here's a breakdown of the task into feasible subtasks:\\n\\nSubtask 1: Fetch the UK's GDP over the past 5 years\\n\\n* Step 1.1: Identify a reliable source of GDP data for the UK (e.g. Office for National Statistics, World Bank, or International Monetary Fund)\\n* Step 1.2: Determine the format and frequency of the data (e.g. quarterly or annual data, CSV or Excel file)\\n* Step 1.3: Download or extract the data for the past 5 years (e.g. 2017-2021)\\n\\nSubtask 2: Preprocess the data\\n\\n* Step 2.1: Clean and format the data to a consistent structure (e.g. convert to a pandas DataFrame in Python)\\n* Step 2.2: Handle any missing or outlier values (e.g. interpolate or remove)\\n* Step 2.3: Verify the data for any errors or inconsistencies\\n\\nSubtask 3: Draw a line graph of the GDP data\\n\\n* Step 3.1: Choose a visualization library or framework (e.g. Matplotlib, Seaborn, or Plotly)\\n* Step 3.2: Create a line plot of the GDP data, using the x-axis (e.g. year) and y-axis (e.g. GDP value)\\n* Step 3.3: Customize the plot as needed (e.g. title, labels, colors)\\n\\nSubtask 4: Finish the task\\n\\n* Step 4.1: Review and verify the accuracy of the plot\\n* Step 4.2: Optimize the plot for presentation or publication (e.g. adjust font sizes, colors, or layout)\\n* Step 4.3: Document the process and results (e.g. write a report, create a GitHub gist, or include comments in the code)\\n\\nBy breaking down the task into these subtasks, we can focus on one part at a time, ensuring a more feasible and manageable workflow.\", response_metadata={'role': 'assistant', 'content': \"Here's a breakdown of the task into feasible subtasks:\\n\\nSubtask 1: Fetch the UK's GDP over the past 5 years\\n\\n* Step 1.1: Identify a reliable source of GDP data for the UK (e.g. Office for National Statistics, World Bank, or International Monetary Fund)\\n* Step 1.2: Determine the format and frequency of the data (e.g. quarterly or annual data, CSV or Excel file)\\n* Step 1.3: Download or extract the data for the past 5 years (e.g. 2017-2021)\\n\\nSubtask 2: Preprocess the data\\n\\n* Step 2.1: Clean and format the data to a consistent structure (e.g. convert to a pandas DataFrame in Python)\\n* Step 2.2: Handle any missing or outlier values (e.g. interpolate or remove)\\n* Step 2.3: Verify the data for any errors or inconsistencies\\n\\nSubtask 3: Draw a line graph of the GDP data\\n\\n* Step 3.1: Choose a visualization library or framework (e.g. Matplotlib, Seaborn, or Plotly)\\n* Step 3.2: Create a line plot of the GDP data, using the x-axis (e.g. year) and y-axis (e.g. GDP value)\\n* Step 3.3: Customize the plot as needed (e.g. title, labels, colors)\\n\\nSubtask 4: Finish the task\\n\\n* Step 4.1: Review and verify the accuracy of the plot\\n* Step 4.2: Optimize the plot for presentation or publication (e.g. adjust font sizes, colors, or layout)\\n* Step 4.3: Document the process and results (e.g. write a report, create a GitHub gist, or include comments in the code)\\n\\nBy breaking down the task into these subtasks, we can focus on one part at a time, ensuring a more feasible and manageable workflow.\", 'token_usage': {'prompt_tokens': 74, 'total_tokens': 483, 'completion_tokens': 409}, 'model_name': 'meta/llama3-8b-instruct'}, name='planner', id='run-3ee52fb4-82d5-41a0-ad9f-c43db732fc8e-0', role='assistant')], 'sender': 'planner'}}\n",
      "----\n"
     ]
    }
   ],
   "source": [
    "events = graph.stream(\n",
    "    {\n",
    "        \"messages\": [\n",
    "            HumanMessage(\n",
    "                content=\"Fetch the UK's GDP over the past 5 years,\"\n",
    "                \" then draw a line graph of it.\"\n",
    "                \" Once you code it up, finish.\"\n",
    "            )\n",
    "        ],\n",
    "    },\n",
    "    # Maximum number of steps to take in the graph\n",
    "    {\"recursion_limit\": 5},\n",
    ")\n",
    "for s in events:\n",
    "    print(s)\n",
    "    print(\"----\")"
   ]
  }
 ],
 "metadata": {
  "kernelspec": {
   "display_name": ".venv",
   "language": "python",
   "name": "python3"
  },
  "language_info": {
   "codemirror_mode": {
    "name": "ipython",
    "version": 3
   },
   "file_extension": ".py",
   "mimetype": "text/x-python",
   "name": "python",
   "nbconvert_exporter": "python",
   "pygments_lexer": "ipython3",
   "version": "3.10.12"
  }
 },
 "nbformat": 4,
 "nbformat_minor": 2
}
